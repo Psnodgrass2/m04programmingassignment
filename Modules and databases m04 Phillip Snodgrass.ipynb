{
 "cells": [
  {
   "cell_type": "markdown",
   "id": "4fc62012",
   "metadata": {},
   "source": [
    "11.1 and 11.2"
   ]
  },
  {
   "cell_type": "code",
   "execution_count": 1,
   "id": "a9ae0d44",
   "metadata": {},
   "outputs": [],
   "source": [
    "import zoo"
   ]
  },
  {
   "cell_type": "code",
   "execution_count": 2,
   "id": "827a540d",
   "metadata": {},
   "outputs": [
    {
     "name": "stdout",
     "output_type": "stream",
     "text": [
      "Open 9-5 Daily\n"
     ]
    }
   ],
   "source": [
    "zoo.hours()"
   ]
  },
  {
   "cell_type": "markdown",
   "id": "627ac9b3",
   "metadata": {},
   "source": [
    "16.1-16.8"
   ]
  },
  {
   "cell_type": "code",
   "execution_count": 3,
   "id": "dce7fa66",
   "metadata": {},
   "outputs": [],
   "source": [
    "import csv"
   ]
  },
  {
   "cell_type": "code",
   "execution_count": 4,
   "id": "ecf00af4",
   "metadata": {},
   "outputs": [
    {
     "name": "stdout",
     "output_type": "stream",
     "text": [
      "{'author': 'J R R Tolkien', 'book': 'The Hobbit'}\n",
      "{'author': 'Lynne Truss', 'book': 'Eats, Shoots & Leaves'}\n"
     ]
    }
   ],
   "source": [
    "with open(\"books.csv\") as csvfile:\n",
    "    books = csv.DictReader(csvfile)\n",
    "    for each in books:\n",
    "        print(each)"
   ]
  },
  {
   "cell_type": "code",
   "execution_count": 5,
   "id": "96c34e53",
   "metadata": {},
   "outputs": [],
   "source": [
    "import sqlite3"
   ]
  },
  {
   "cell_type": "code",
   "execution_count": 6,
   "id": "ad75c01d",
   "metadata": {},
   "outputs": [],
   "source": [
    "bookdatabase = sqlite3.connect(\"books.db\")"
   ]
  },
  {
   "cell_type": "code",
   "execution_count": 7,
   "id": "4878b855",
   "metadata": {},
   "outputs": [
    {
     "data": {
      "text/plain": [
       "<sqlite3.Cursor at 0x10a133c9730>"
      ]
     },
     "execution_count": 7,
     "metadata": {},
     "output_type": "execute_result"
    }
   ],
   "source": [
    "bookdatabase.execute(\n",
    "\"\"\"\n",
    "CREATE TABLE BOOKS(\n",
    "title TEXT,\n",
    "author TEXT,\n",
    "year INTEGER\n",
    ")\n",
    "\"\"\")\n",
    "\n"
   ]
  },
  {
   "cell_type": "code",
   "execution_count": 8,
   "id": "5419f511",
   "metadata": {},
   "outputs": [
    {
     "name": "stdout",
     "output_type": "stream",
     "text": [
      "{'title': 'The weirdstone of birsganamen', 'author': 'alan garner', 'year': '1960'}\n",
      "('The weirdstone of birsganamen', 'alan garner', '1960')\n",
      "{'title': 'perdido street station', 'author': 'china mieville', 'year': '2000'}\n",
      "('perdido street station', 'china mieville', '2000')\n",
      "{'title': '\"Thud!\"', 'author': 'terry pratchet', 'year': '2005'}\n",
      "('\"Thud!\"', 'terry pratchet', '2005')\n",
      "{'title': 'the spellman files', 'author': 'lisa lutz', 'year': '2007'}\n",
      "('the spellman files', 'lisa lutz', '2007')\n",
      "{'title': 'small gods', 'author': 'terry pratchet', 'year': '1992'}\n",
      "('small gods', 'terry pratchet', '1992')\n"
     ]
    }
   ],
   "source": [
    "cursor = bookdatabase.cursor()\n",
    "with open(\"books2.csv\") as csvfile:\n",
    "    books2 = csv.DictReader(csvfile)\n",
    "    for each in books2:\n",
    "        print(each)\n",
    "        insert_with_param = \\\n",
    "        \"\"\"\n",
    "        INSERT INTO books(title, author, year) VALUES(?,?,?);\n",
    "        \n",
    "        \n",
    "        \"\"\"\n",
    "        data_tuple = (each[\"title\"], each[\"author\"], each[\"year\"])\n",
    "        print(data_tuple)\n",
    "        bookdatabase.execute(insert_with_param, data_tuple)\n",
    "        bookdatabase.commit()\n",
    "        cursor.close()\n"
   ]
  },
  {
   "cell_type": "code",
   "execution_count": 26,
   "id": "e3f23226",
   "metadata": {},
   "outputs": [
    {
     "name": "stdout",
     "output_type": "stream",
     "text": [
      "[('\"Thud!\"',), ('The weirdstone of birsganamen',), ('perdido street station',), ('small gods',), ('the spellman files',)]\n"
     ]
    }
   ],
   "source": [
    "cursor = bookdatabase.cursor()\n",
    "cursor.execute(\"SELECT title FROM books ORDER BY title\")\n",
    "\n",
    "rows = cursor.fetchall()\n",
    "print(rows)\n",
    "cursor.close()"
   ]
  },
  {
   "cell_type": "markdown",
   "id": "055ec7fc",
   "metadata": {},
   "source": [
    "this is technically sorted correctly it's just putting the capital letters before the lowercase letters because i was too lazy to fix the database for the nth time"
   ]
  },
  {
   "cell_type": "code",
   "execution_count": 27,
   "id": "27313955",
   "metadata": {},
   "outputs": [
    {
     "name": "stdout",
     "output_type": "stream",
     "text": [
      "[('The weirdstone of birsganamen',), ('small gods',), ('perdido street station',), ('\"Thud!\"',), ('the spellman files',)]\n"
     ]
    }
   ],
   "source": [
    "cursor = bookdatabase.cursor()\n",
    "cursor.execute(\"SELECT title FROM books ORDER BY year\")\n",
    "\n",
    "rows = cursor.fetchall()\n",
    "print(rows)"
   ]
  },
  {
   "cell_type": "code",
   "execution_count": 30,
   "id": "5610368b",
   "metadata": {},
   "outputs": [],
   "source": [
    "import sqlalchemy"
   ]
  },
  {
   "cell_type": "code",
   "execution_count": 37,
   "id": "c0494a7c",
   "metadata": {},
   "outputs": [],
   "source": [
    "engine = sqlalchemy.create_engine('sqlite:///books.db')"
   ]
  },
  {
   "cell_type": "code",
   "execution_count": 38,
   "id": "57afb651",
   "metadata": {},
   "outputs": [],
   "source": [
    "connection = engine.connect()"
   ]
  },
  {
   "cell_type": "code",
   "execution_count": 46,
   "id": "ba27a436",
   "metadata": {},
   "outputs": [],
   "source": [
    "result = connection.execute(\"SELECT title FROM books ORDER BY title\")"
   ]
  },
  {
   "cell_type": "code",
   "execution_count": 47,
   "id": "5209a62d",
   "metadata": {},
   "outputs": [
    {
     "name": "stdout",
     "output_type": "stream",
     "text": [
      "[('\"Thud!\"',), ('The weirdstone of birsganamen',), ('perdido street station',), ('small gods',), ('the spellman files',)]\n"
     ]
    }
   ],
   "source": [
    "print(result.fetchall())"
   ]
  },
  {
   "cell_type": "code",
   "execution_count": null,
   "id": "57c3c872",
   "metadata": {},
   "outputs": [],
   "source": []
  }
 ],
 "metadata": {
  "kernelspec": {
   "display_name": "Python 3 (ipykernel)",
   "language": "python",
   "name": "python3"
  },
  "language_info": {
   "codemirror_mode": {
    "name": "ipython",
    "version": 3
   },
   "file_extension": ".py",
   "mimetype": "text/x-python",
   "name": "python",
   "nbconvert_exporter": "python",
   "pygments_lexer": "ipython3",
   "version": "3.9.13"
  }
 },
 "nbformat": 4,
 "nbformat_minor": 5
}
